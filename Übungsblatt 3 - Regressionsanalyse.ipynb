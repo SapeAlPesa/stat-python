{
 "cells": [
  {
   "cell_type": "markdown",
   "id": "598f36c7",
   "metadata": {},
   "source": [
    "#### Aufgabe 2"
   ]
  },
  {
   "cell_type": "code",
   "execution_count": 81,
   "id": "b0f68ff1",
   "metadata": {},
   "outputs": [],
   "source": [
    "import pandas as pd\n",
    "import numpy as np"
   ]
  },
  {
   "cell_type": "code",
   "execution_count": 82,
   "id": "d01ebd89",
   "metadata": {},
   "outputs": [],
   "source": [
    "df = pd.read_stata(r\"K:\\Stat_Workshop\\Python\\Daten\\GEDA2014-2015\\geda14.dta\")"
   ]
  },
  {
   "cell_type": "markdown",
   "id": "33125644",
   "metadata": {},
   "source": [
    "Variablenformat anpassen. Siehe Übungsblatt, Aufgabe 10 für eine kurze Erläuterung."
   ]
  },
  {
   "cell_type": "code",
   "execution_count": 83,
   "id": "0d58eef4",
   "metadata": {},
   "outputs": [],
   "source": [
    "df['LQzufrB10'] = df['LQzufrB10'].cat.codes\n",
    "df['LQzufrB10'] = df['LQzufrB10'].replace(-1, np.NaN)"
   ]
  },
  {
   "cell_type": "markdown",
   "id": "5a217b14",
   "metadata": {},
   "source": [
    "#### Aufgabe 3 "
   ]
  },
  {
   "cell_type": "code",
   "execution_count": 84,
   "id": "093bf624",
   "metadata": {},
   "outputs": [],
   "source": [
    "import statsmodels.api as sm\n",
    "import matplotlib.pyplot as plt"
   ]
  },
  {
   "cell_type": "markdown",
   "id": "1a1953a9",
   "metadata": {},
   "source": [
    "#### Aufgabe 4"
   ]
  },
  {
   "cell_type": "markdown",
   "id": "20fcec0e",
   "metadata": {},
   "source": [
    "Formel für den Regressionskoeffizienten:<br>\n",
    "$\\hat{\\beta}_{1}=\\frac{\\text{Cov}(X, Y)}{\\text{Var}(X)}$"
   ]
  },
  {
   "cell_type": "code",
   "execution_count": 85,
   "id": "3aff669b",
   "metadata": {
    "scrolled": true
   },
   "outputs": [],
   "source": [
    "cov_xy = df['SDses_score'].cov(df['LQzufrB10'])"
   ]
  },
  {
   "cell_type": "code",
   "execution_count": 86,
   "id": "77f42872",
   "metadata": {},
   "outputs": [],
   "source": [
    "var_x = df['SDses_score'].var()"
   ]
  },
  {
   "cell_type": "code",
   "execution_count": 87,
   "id": "6924cf9d",
   "metadata": {},
   "outputs": [
    {
     "data": {
      "text/plain": [
       "0.07990761391323181"
      ]
     },
     "execution_count": 87,
     "metadata": {},
     "output_type": "execute_result"
    }
   ],
   "source": [
    "beta_1 = cov_xy/var_x\n",
    "beta_1"
   ]
  },
  {
   "cell_type": "markdown",
   "id": "25587d6a",
   "metadata": {},
   "source": [
    "Formel für die Regressionskonstante:<br>\n",
    "$\\hat{\\beta}_{0}=\\bar{y}-\\hat{\\beta}_{1}\\bar{x}$"
   ]
  },
  {
   "cell_type": "code",
   "execution_count": 88,
   "id": "099519be",
   "metadata": {
    "scrolled": true
   },
   "outputs": [
    {
     "data": {
      "text/plain": [
       "6.52462758998016"
      ]
     },
     "execution_count": 88,
     "metadata": {},
     "output_type": "execute_result"
    }
   ],
   "source": [
    "beta_0 = df['LQzufrB10'][df['SDses_score'].notnull()].mean()-beta_1c*df['SDses_score'][df['LQzufrB10'].notnull()].mean()\n",
    "beta_0"
   ]
  },
  {
   "cell_type": "code",
   "execution_count": 89,
   "id": "f65c120e",
   "metadata": {},
   "outputs": [],
   "source": [
    "beta_1c = df['SDses_score'].cov(df['LQzufrB10'])/df['SDses_score'][df['LQzufrB10'].notnull()].var()"
   ]
  },
  {
   "cell_type": "code",
   "execution_count": 90,
   "id": "e2a40699",
   "metadata": {},
   "outputs": [],
   "source": [
    "test = df[df['LQzufrB10'].notnull()]"
   ]
  },
  {
   "cell_type": "markdown",
   "id": "8f7104d5",
   "metadata": {},
   "source": [
    "#### Aufgabe 5"
   ]
  },
  {
   "cell_type": "code",
   "execution_count": 91,
   "id": "b596ff03",
   "metadata": {},
   "outputs": [
    {
     "name": "stderr",
     "output_type": "stream",
     "text": [
      "C:\\ProgramData\\Anaconda3\\lib\\site-packages\\statsmodels\\tsa\\tsatools.py:142: FutureWarning: In a future version of pandas all arguments of concat except for the argument 'objs' will be keyword-only\n",
      "  x = pd.concat(x[::order], 1)\n"
     ]
    }
   ],
   "source": [
    "y = df['LQzufrB10']\n",
    "x = df['SDses_score']\n",
    "X = sm.add_constant(x)"
   ]
  },
  {
   "cell_type": "code",
   "execution_count": 92,
   "id": "d300f746",
   "metadata": {},
   "outputs": [
    {
     "name": "stdout",
     "output_type": "stream",
     "text": [
      "                            OLS Regression Results                            \n",
      "==============================================================================\n",
      "Dep. Variable:              LQzufrB10   R-squared:                       0.031\n",
      "Model:                            OLS   Adj. R-squared:                  0.031\n",
      "Method:                 Least Squares   F-statistic:                     379.8\n",
      "Date:                Fri, 04 Mar 2022   Prob (F-statistic):           2.76e-83\n",
      "Time:                        19:05:08   Log-Likelihood:                -23949.\n",
      "No. Observations:               11935   AIC:                         4.790e+04\n",
      "Df Residuals:                   11933   BIC:                         4.792e+04\n",
      "Df Model:                           1                                         \n",
      "Covariance Type:            nonrobust                                         \n",
      "===============================================================================\n",
      "                  coef    std err          t      P>|t|      [0.025      0.975]\n",
      "-------------------------------------------------------------------------------\n",
      "const           6.5246      0.054    121.018      0.000       6.419       6.630\n",
      "SDses_score     0.0800      0.004     19.487      0.000       0.072       0.088\n",
      "==============================================================================\n",
      "Omnibus:                     2268.458   Durbin-Watson:                   2.010\n",
      "Prob(Omnibus):                  0.000   Jarque-Bera (JB):             4557.428\n",
      "Skew:                          -1.142   Prob(JB):                         0.00\n",
      "Kurtosis:                       4.987   Cond. No.                         43.2\n",
      "==============================================================================\n",
      "\n",
      "Notes:\n",
      "[1] Standard Errors assume that the covariance matrix of the errors is correctly specified.\n"
     ]
    }
   ],
   "source": [
    "results = sm.OLS(y, X, missing='drop').fit()\n",
    "print(results.summary())"
   ]
  },
  {
   "cell_type": "markdown",
   "id": "988c56b4",
   "metadata": {},
   "source": [
    "#### Aufgabe 6"
   ]
  },
  {
   "attachments": {},
   "cell_type": "markdown",
   "id": "46a990a8",
   "metadata": {},
   "source": [
    "Mit einem sozioökonomischen Status von null liegt die Lebenszufriedenheit bei durchschnittlich 6,52.<br>\n",
    "Mit jedem Statuspunkt steigt die Lebenszufriedenheit um durchschnittlich 0,08 Einheiten."
   ]
  },
  {
   "cell_type": "markdown",
   "id": "bd18b3d2",
   "metadata": {},
   "source": [
    "#### Aufgabe 7"
   ]
  },
  {
   "cell_type": "markdown",
   "id": "92bda02e",
   "metadata": {},
   "source": [
    "Erwartung: Depressivität sollte Lebenszufriedenheit senken, also negativ beeinflussen."
   ]
  },
  {
   "cell_type": "markdown",
   "id": "8d25e55e",
   "metadata": {},
   "source": [
    "Für die einfache lineare Regression mit *SDses_score* als unabhängiger Variable siehe Aufgabe 5.<br>\n",
    "Einfache lineare Regression mit *PKphq8sum* als unabhängiger Variable:"
   ]
  },
  {
   "cell_type": "code",
   "execution_count": 93,
   "id": "be17490d",
   "metadata": {},
   "outputs": [
    {
     "name": "stderr",
     "output_type": "stream",
     "text": [
      "C:\\ProgramData\\Anaconda3\\lib\\site-packages\\statsmodels\\tsa\\tsatools.py:142: FutureWarning: In a future version of pandas all arguments of concat except for the argument 'objs' will be keyword-only\n",
      "  x = pd.concat(x[::order], 1)\n"
     ]
    }
   ],
   "source": [
    "y = df['LQzufrB10']\n",
    "x = df['PKphq8sum']\n",
    "X = sm.add_constant(x)"
   ]
  },
  {
   "cell_type": "code",
   "execution_count": 94,
   "id": "6a3d297b",
   "metadata": {},
   "outputs": [
    {
     "name": "stdout",
     "output_type": "stream",
     "text": [
      "                            OLS Regression Results                            \n",
      "==============================================================================\n",
      "Dep. Variable:              LQzufrB10   R-squared:                       0.332\n",
      "Model:                            OLS   Adj. R-squared:                  0.332\n",
      "Method:                 Least Squares   F-statistic:                     5843.\n",
      "Date:                Fri, 04 Mar 2022   Prob (F-statistic):               0.00\n",
      "Time:                        19:05:08   Log-Likelihood:                -21343.\n",
      "No. Observations:               11758   AIC:                         4.269e+04\n",
      "Df Residuals:                   11756   BIC:                         4.270e+04\n",
      "Df Model:                           1                                         \n",
      "Covariance Type:            nonrobust                                         \n",
      "==============================================================================\n",
      "                 coef    std err          t      P>|t|      [0.025      0.975]\n",
      "------------------------------------------------------------------------------\n",
      "const          8.5396      0.019    448.916      0.000       8.502       8.577\n",
      "PKphq8sum     -0.2585      0.003    -76.438      0.000      -0.265      -0.252\n",
      "==============================================================================\n",
      "Omnibus:                     1343.093   Durbin-Watson:                   2.004\n",
      "Prob(Omnibus):                  0.000   Jarque-Bera (JB):             2827.135\n",
      "Skew:                          -0.715   Prob(JB):                         0.00\n",
      "Kurtosis:                       4.930   Cond. No.                         7.93\n",
      "==============================================================================\n",
      "\n",
      "Notes:\n",
      "[1] Standard Errors assume that the covariance matrix of the errors is correctly specified.\n"
     ]
    }
   ],
   "source": [
    "results = sm.OLS(y, X, missing='drop').fit()\n",
    "print(results.summary())"
   ]
  },
  {
   "cell_type": "markdown",
   "id": "59803cc3",
   "metadata": {},
   "source": [
    "Multiple lineare Regression mit *SDses_score* und *PKphq8sum* als unabhängigen Variablen:"
   ]
  },
  {
   "cell_type": "code",
   "execution_count": 95,
   "id": "80a4a006",
   "metadata": {},
   "outputs": [
    {
     "name": "stderr",
     "output_type": "stream",
     "text": [
      "C:\\ProgramData\\Anaconda3\\lib\\site-packages\\statsmodels\\tsa\\tsatools.py:142: FutureWarning: In a future version of pandas all arguments of concat except for the argument 'objs' will be keyword-only\n",
      "  x = pd.concat(x[::order], 1)\n"
     ]
    }
   ],
   "source": [
    "y = df['LQzufrB10']\n",
    "x = df[['SDses_score', 'PKphq8sum']]\n",
    "X = sm.add_constant(x)"
   ]
  },
  {
   "cell_type": "code",
   "execution_count": 96,
   "id": "caf4922f",
   "metadata": {},
   "outputs": [
    {
     "name": "stdout",
     "output_type": "stream",
     "text": [
      "                            OLS Regression Results                            \n",
      "==============================================================================\n",
      "Dep. Variable:              LQzufrB10   R-squared:                       0.341\n",
      "Model:                            OLS   Adj. R-squared:                  0.341\n",
      "Method:                 Least Squares   F-statistic:                     3032.\n",
      "Date:                Fri, 04 Mar 2022   Prob (F-statistic):               0.00\n",
      "Time:                        19:05:08   Log-Likelihood:                -21228.\n",
      "No. Observations:               11735   AIC:                         4.246e+04\n",
      "Df Residuals:                   11732   BIC:                         4.248e+04\n",
      "Df Model:                           2                                         \n",
      "Covariance Type:            nonrobust                                         \n",
      "===============================================================================\n",
      "                  coef    std err          t      P>|t|      [0.025      0.975]\n",
      "-------------------------------------------------------------------------------\n",
      "const           8.0009      0.049    163.184      0.000       7.905       8.097\n",
      "SDses_score     0.0411      0.003     11.931      0.000       0.034       0.048\n",
      "PKphq8sum      -0.2527      0.003    -74.204      0.000      -0.259      -0.246\n",
      "==============================================================================\n",
      "Omnibus:                     1233.238   Durbin-Watson:                   2.000\n",
      "Prob(Omnibus):                  0.000   Jarque-Bera (JB):             2601.309\n",
      "Skew:                          -0.665   Prob(JB):                         0.00\n",
      "Kurtosis:                       4.884   Cond. No.                         49.4\n",
      "==============================================================================\n",
      "\n",
      "Notes:\n",
      "[1] Standard Errors assume that the covariance matrix of the errors is correctly specified.\n"
     ]
    }
   ],
   "source": [
    "results = sm.OLS(y, X, missing='drop').fit()\n",
    "print(results.summary())"
   ]
  },
  {
   "cell_type": "markdown",
   "id": "a697afe2",
   "metadata": {},
   "source": [
    "#### Aufgabe 8"
   ]
  },
  {
   "cell_type": "markdown",
   "id": "de65a515",
   "metadata": {},
   "source": [
    "*t*-Wert für *SDses_score*:"
   ]
  },
  {
   "cell_type": "code",
   "execution_count": 97,
   "id": "1faac4f5",
   "metadata": {},
   "outputs": [
    {
     "data": {
      "text/plain": [
       "13.7"
      ]
     },
     "execution_count": 97,
     "metadata": {},
     "output_type": "execute_result"
    }
   ],
   "source": [
    "0.0411/0.003"
   ]
  },
  {
   "cell_type": "markdown",
   "id": "9e1be48f",
   "metadata": {},
   "source": [
    "*t*-Wert für *PKphq8sum*:"
   ]
  },
  {
   "cell_type": "code",
   "execution_count": 98,
   "id": "26e84fd3",
   "metadata": {},
   "outputs": [
    {
     "data": {
      "text/plain": [
       "-84.23333333333332"
      ]
     },
     "execution_count": 98,
     "metadata": {},
     "output_type": "execute_result"
    }
   ],
   "source": [
    "-0.2527/0.003 "
   ]
  },
  {
   "cell_type": "markdown",
   "id": "984c9fc7",
   "metadata": {},
   "source": [
    "Ups! Große Rundungsfehler! Man kann die Ergebnisse genauer abrufen:"
   ]
  },
  {
   "cell_type": "markdown",
   "id": "3e5f5c4a",
   "metadata": {},
   "source": [
    "Koeffizienten:"
   ]
  },
  {
   "cell_type": "code",
   "execution_count": 99,
   "id": "dd1dd01d",
   "metadata": {},
   "outputs": [
    {
     "data": {
      "text/plain": [
       "const          8.000860\n",
       "SDses_score    0.041093\n",
       "PKphq8sum     -0.252676\n",
       "dtype: float64"
      ]
     },
     "execution_count": 99,
     "metadata": {},
     "output_type": "execute_result"
    }
   ],
   "source": [
    "results.params"
   ]
  },
  {
   "cell_type": "markdown",
   "id": "eab225a4",
   "metadata": {},
   "source": [
    "Standardfehler:"
   ]
  },
  {
   "cell_type": "code",
   "execution_count": 100,
   "id": "a4d4a98e",
   "metadata": {},
   "outputs": [
    {
     "data": {
      "text/plain": [
       "const          0.049030\n",
       "SDses_score    0.003444\n",
       "PKphq8sum      0.003405\n",
       "dtype: float64"
      ]
     },
     "execution_count": 100,
     "metadata": {},
     "output_type": "execute_result"
    }
   ],
   "source": [
    "results.bse"
   ]
  },
  {
   "cell_type": "markdown",
   "id": "ed905a5c",
   "metadata": {},
   "source": [
    "Koeffizienten/Standardfehler:"
   ]
  },
  {
   "cell_type": "code",
   "execution_count": 101,
   "id": "71c164b0",
   "metadata": {},
   "outputs": [
    {
     "data": {
      "text/plain": [
       "const          163.183751\n",
       "SDses_score     11.931295\n",
       "PKphq8sum      -74.203646\n",
       "dtype: float64"
      ]
     },
     "execution_count": 101,
     "metadata": {},
     "output_type": "execute_result"
    }
   ],
   "source": [
    "results.params/results.bse"
   ]
  },
  {
   "cell_type": "markdown",
   "id": "9df98765",
   "metadata": {},
   "source": [
    "#### Aufgabe 9"
   ]
  },
  {
   "attachments": {},
   "cell_type": "markdown",
   "id": "a4136de0",
   "metadata": {},
   "source": [
    "Der Koeffizient für *SDses_score* ist 0,041. Bei Gültigkeit der H0 ist dieser Wert fast 12 Standardfehler von der Null entfernt. Die Wahrscheinlichkeit so einen oder einen noch extremeren Wert unter der H0 zu erhalten, ist *p* = 0,000 (sehr unwahrscheinlich).<br>\n",
    "Der Koeffizient für *PKphq8sum* ist -0,253. Bei Gültigkeit der H0 ist dieser Wert über 74 Standardfehler von der Null entfernt. Die Wahrscheinlichkeit so einen oder einen noch extremeren Wert unter der H0 zu erhalten, ist *p* = 0,000 (sehr unwahrscheinlich)."
   ]
  },
  {
   "cell_type": "markdown",
   "id": "fc4b6a4a",
   "metadata": {},
   "source": [
    "#### Aufgabe 10"
   ]
  },
  {
   "cell_type": "markdown",
   "id": "bad15106",
   "metadata": {},
   "source": [
    "95%-Konfidenzintervall für *SDses_score*:"
   ]
  },
  {
   "cell_type": "code",
   "execution_count": 102,
   "id": "fc8cc371",
   "metadata": {},
   "outputs": [
    {
     "data": {
      "text/plain": [
       "(0.03434276, 0.047843239999999995)"
      ]
     },
     "execution_count": 102,
     "metadata": {},
     "output_type": "execute_result"
    }
   ],
   "source": [
    "0.041093-1.96*0.003444, 0.041093+1.96*0.003444"
   ]
  },
  {
   "cell_type": "markdown",
   "id": "770d3dfb",
   "metadata": {},
   "source": [
    "95%-Konfidenzintervall für *PKphq8sum*:"
   ]
  },
  {
   "cell_type": "code",
   "execution_count": 103,
   "id": "78f14524",
   "metadata": {},
   "outputs": [
    {
     "data": {
      "text/plain": [
       "(-0.2593498, -0.2460022)"
      ]
     },
     "execution_count": 103,
     "metadata": {},
     "output_type": "execute_result"
    }
   ],
   "source": [
    "-0.252676-1.96*0.003405, -0.252676+1.96*0.003405"
   ]
  },
  {
   "cell_type": "markdown",
   "id": "ce2a98a1",
   "metadata": {},
   "source": [
    "#### Aufgabe 11"
   ]
  },
  {
   "cell_type": "markdown",
   "id": "6c7328ee",
   "metadata": {},
   "source": [
    "Für beide Koeffizienten gilt: Sie sind statistisch signifikant von Null verschieden (wegen $p \\le 0,000$), d.h. sie haben auch in der Grundgesamtheit einen Effekt auf die Lebenszufriedenheit!"
   ]
  },
  {
   "cell_type": "code",
   "execution_count": null,
   "id": "4d12c240",
   "metadata": {},
   "outputs": [],
   "source": []
  }
 ],
 "metadata": {
  "kernelspec": {
   "display_name": "Python 3 (ipykernel)",
   "language": "python",
   "name": "python3"
  },
  "language_info": {
   "codemirror_mode": {
    "name": "ipython",
    "version": 3
   },
   "file_extension": ".py",
   "mimetype": "text/x-python",
   "name": "python",
   "nbconvert_exporter": "python",
   "pygments_lexer": "ipython3",
   "version": "3.9.7"
  }
 },
 "nbformat": 4,
 "nbformat_minor": 5
}
