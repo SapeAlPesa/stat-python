{
 "cells": [
  {
   "cell_type": "code",
   "execution_count": 161,
   "id": "a058673b",
   "metadata": {},
   "outputs": [],
   "source": [
    "import pandas as pd\n",
    "import numpy as np"
   ]
  },
  {
   "cell_type": "markdown",
   "id": "0fa41e84",
   "metadata": {},
   "source": [
    "#### Aufgabe 2"
   ]
  },
  {
   "cell_type": "code",
   "execution_count": 162,
   "id": "5757c17e",
   "metadata": {},
   "outputs": [],
   "source": [
    "df = pd.read_stata(r\"K:\\Stat_Workshop\\Python\\Daten\\GEDA2014-2015\\geda14.dta\")"
   ]
  },
  {
   "cell_type": "markdown",
   "id": "34aa6647",
   "metadata": {},
   "source": [
    "#### Aufgabe 3"
   ]
  },
  {
   "cell_type": "code",
   "execution_count": 163,
   "id": "fef2ed4d",
   "metadata": {},
   "outputs": [
    {
     "data": {
      "text/plain": [
       "(12008, 269)"
      ]
     },
     "execution_count": 163,
     "metadata": {},
     "output_type": "execute_result"
    }
   ],
   "source": [
    "df.shape"
   ]
  },
  {
   "cell_type": "code",
   "execution_count": 164,
   "id": "04067b0f",
   "metadata": {},
   "outputs": [
    {
     "name": "stdout",
     "output_type": "stream",
     "text": [
      "<class 'pandas.core.frame.DataFrame'>\n",
      "Int64Index: 12008 entries, 0 to 12007\n",
      "Data columns (total 269 columns):\n",
      " #    Column              Dtype   \n",
      "---   ------              -----   \n",
      " 0    sex                 category\n",
      " 1    sexb                category\n",
      " 2    age5B               category\n",
      " 3    age10B              category\n",
      " 4    agegrp1             category\n",
      " 5    agegrp2             category\n",
      " 6    agegrp4             category\n",
      " 7    agegrp6             category\n",
      " 8    agegrp7             category\n",
      " 9    agegrp8             category\n",
      " 10   agegrp9             category\n",
      " 11   agegrp10            category\n",
      " 12   agegrp11            category\n",
      " 13   agegrp12            category\n",
      " 14   untm                int8    \n",
      " 15   untj                int16   \n",
      " 16   ppoint              int32   \n",
      " 17   ktyp4               category\n",
      " 18   bula                category\n",
      " 19   bula2               category\n",
      " 20   wob                 category\n",
      " 21   reg5                category\n",
      " 22   reg5b               category\n",
      " 23   reg4                category\n",
      " 24   reg6                category\n",
      " 25   reg7                category\n",
      " 26   ns3                 category\n",
      " 27   wQS                 float64 \n",
      " 28   wQSpop              float64 \n",
      " 29   KHhyp12             category\n",
      " 30   KHhyp               category\n",
      " 31   KHhyp12pB           category\n",
      " 32   KHhypmedC           category\n",
      " 33   KHmyo12             category\n",
      " 34   KHkhk12             category\n",
      " 35   KHbbmyo12           category\n",
      " 36   KHhi12              category\n",
      " 37   KHsa12              category\n",
      " 38   KHbbsa12            category\n",
      " 39   KHdiabB12           category\n",
      " 40   KHab12              category\n",
      " 41   KHkarz12            category\n",
      " 42   KHlip12A            category\n",
      " 43   KHlipA              category\n",
      " 44   KHlipmedA           category\n",
      " 45   KHcb12              category\n",
      " 46   KHulc12             category\n",
      " 47   KHced12             category\n",
      " 48   KHlz12              category\n",
      " 49   KHcle12             category\n",
      " 50   KHniB12             category\n",
      " 51   KHdge12             category\n",
      " 52   KHra12              category\n",
      " 53   KHos12              category\n",
      " 54   KHalgi112           category\n",
      " 55   GZmehm1             category\n",
      " 56   GZmehm3C            category\n",
      " 57   GZmehm2D            category\n",
      " 58   GZsubj1             category\n",
      " 59   SHseh1              category\n",
      " 60   SHseh2C             category\n",
      " 61   SHhoer1             category\n",
      " 62   SHhoer5             category\n",
      " 63   SHhoer6             category\n",
      " 64   BBmyo12             category\n",
      " 65   BBsa12              category\n",
      " 66   BBdors112           category\n",
      " 67   BBdors212           category\n",
      " 68   BBblas12B           category\n",
      " 69   BBgehen             category\n",
      " 70   BBtreppe            category\n",
      " 71   BBschwierig1        category\n",
      " 72   BBschwierig2        category\n",
      " 73   BBschwierig3        category\n",
      " 74   BBschwierig4        category\n",
      " 75   BBschwierig5        category\n",
      " 76   BBhilfe1            category\n",
      " 77   BBhilfe2            category\n",
      " 78   BBhh1               category\n",
      " 79   BBhh2               category\n",
      " 80   BBhh3               category\n",
      " 81   BBhh4               category\n",
      " 82   BBhh5               category\n",
      " 83   BBhh6               category\n",
      " 84   BBhh7               category\n",
      " 85   BBhhhilfe1          category\n",
      " 86   BBhhhilfe2          category\n",
      " 87   BBbehB              category\n",
      " 88   BBbehzC_k           category\n",
      " 89   UVartverkehr        category\n",
      " 90   UVarthaus           category\n",
      " 91   UVartfreiz          category\n",
      " 92   UVarztE_k           category\n",
      " 93   UVarbeit1           category\n",
      " 94   UVarbeit2           category\n",
      " 95   SEschwA_zz          category\n",
      " 96   PKdep12             category\n",
      " 97   PKphq1              category\n",
      " 98   PKphq2              category\n",
      " 99   PKphq3              category\n",
      " 100  PKphq4              category\n",
      " 101  PKphq5              category\n",
      " 102  PKphq6              category\n",
      " 103  PKphq7              category\n",
      " 104  PKphq8              category\n",
      " 105  PKphq8sum           float64 \n",
      " 106  PKphq8_k1           category\n",
      " 107  PKphq8_k2           category\n",
      " 108  PKphq8_k3           category\n",
      " 109  PKphq8diag          category\n",
      " 110  SFoslo1C            category\n",
      " 111  SFoslo2C            category\n",
      " 112  SFoslo3A            category\n",
      " 113  SFosloA             category\n",
      " 114  LQsf367C            category\n",
      " 115  LQsf368C            category\n",
      " 116  LQzufrB10           category\n",
      " 117  IAhypus             category\n",
      " 118  IAcholus            category\n",
      " 119  IAdiabus            category\n",
      " 120  IAtermin            category\n",
      " 121  IAweg               category\n",
      " 122  IAkosten1           category\n",
      " 123  IAkosten2           category\n",
      " 124  IAkosten3           category\n",
      " 125  IAkosten4           category\n",
      " 126  IAarzt14B           category\n",
      " 127  IAarzt1B            category\n",
      " 128  IAarzt1B4w          category\n",
      " 129  IAarzt1B12_k        category\n",
      " 130  IAfa                category\n",
      " 131  IAfa4w              category\n",
      " 132  IAfa12_k            category\n",
      " 133  IAarzt8C            category\n",
      " 134  IAkhs               category\n",
      " 135  IAkhs_k             category\n",
      " 136  IAambC              category\n",
      " 137  IAambC_k            category\n",
      " 138  IAther2B            category\n",
      " 139  IApflege            category\n",
      " 140  IAkfutyp2B_lz       category\n",
      " 141  IAkfutyp4B_lz       category\n",
      " 142  IAkfutyp7B_lz       category\n",
      " 143  IAkfutyp7Bgr        category\n",
      " 144  IAkfutyp5B_lz       category\n",
      " 145  IAkv1D              category\n",
      " 146  IAkv2D              category\n",
      " 147  IPinfl4             category\n",
      " 148  IPinfl4_mm          float64 \n",
      " 149  IPinfl4_jj          float64 \n",
      " 150  IPinfl1415B         category\n",
      " 151  IPinfl1314B         category\n",
      " 152  IPinfl6B            category\n",
      " 153  IPtet               category\n",
      " 154  IPtet_lz            category\n",
      " 155  AMarztB             category\n",
      " 156  AMfrei              category\n",
      " 157  AUarbC              category\n",
      " 158  AUarbzD_k           category\n",
      " 159  KAehispaq1          category\n",
      " 160  KAehispaq2          category\n",
      " 161  KAehispaq3          category\n",
      " 162  KAehispaq4          category\n",
      " 163  KAehispaq5          category\n",
      " 164  KAehispaq6          category\n",
      " 165  KAspodauC_k         category\n",
      " 166  KAehispaq8          category\n",
      " 167  KAabka              category\n",
      " 168  KAsabka             category\n",
      " 169  KAtbka_k            category\n",
      " 170  KAgfka              category\n",
      " 171  KAgfa               category\n",
      " 172  KAgfka1             category\n",
      " 173  KAgfmk              category\n",
      " 174  KAgka               category\n",
      " 175  KAgka_k             category\n",
      " 176  ENobstB             category\n",
      " 177  ENobstBz1           category\n",
      " 178  ENgemB              category\n",
      " 179  ENgemBz1            category\n",
      " 180  AKoft12_k           category\n",
      " 181  AKechi47            category\n",
      " 182  AKbingeC_k          category\n",
      " 183  AKbingeC_k3         category\n",
      " 184  AKrisiko            category\n",
      " 185  AKrisiko2           category\n",
      " 186  RCstat              category\n",
      " 187  RCstat_k2           category\n",
      " 188  RCtyp_m1            category\n",
      " 189  RCtyp_m2            category\n",
      " 190  RCtyp_m3            category\n",
      " 191  RCtyp_m4            category\n",
      " 192  RCtyp_m6            category\n",
      " 193  RCtyp_m7            category\n",
      " 194  RCtyphaupt          category\n",
      " 195  RCzA_ttk            category\n",
      " 196  RCz2B_ttk           category\n",
      " 197  RCzA_wwk            category\n",
      " 198  RCz2B_wwk           category\n",
      " 199  RC_ak               category\n",
      " 200  RCex_ak             category\n",
      " 201  RCpass4             category\n",
      " 202  RCpassort_m2        category\n",
      " 203  RCpassort_m1        category\n",
      " 204  RCpassort_m7        category\n",
      " 205  RCpassort_m4        category\n",
      " 206  RCpassort_m3        category\n",
      " 207  RCpassort_m5        category\n",
      " 208  RCpassort_m6        category\n",
      " 209  GVasku1             category\n",
      " 210  GVasku2             category\n",
      " 211  GVasku3             category\n",
      " 212  ABtragen            category\n",
      " 213  ABschichtC          category\n",
      " 214  ABsubjB             category\n",
      " 215  BLpflege2C          category\n",
      " 216  BLpers              category\n",
      " 217  BLpflegedauB        category\n",
      " 218  PAfam1C             category\n",
      " 219  PAfam3              category\n",
      " 220  PAhh_k              category\n",
      " 221  PAmarstadefacto     category\n",
      " 222  PAhhnbpersk_0_4     category\n",
      " 223  PAhhnbpersk_5_13    category\n",
      " 224  PAhhnbpersk_14_15   category\n",
      " 225  PAhhnbpersk_16_24   category\n",
      " 226  PAhhnbpersk_25_64   category\n",
      " 227  PAhhnbpersk_65PLUS  category\n",
      " 228  PAhhtype            category\n",
      " 229  PAhh_act            float64 \n",
      " 230  PAhh_inact          float64 \n",
      " 231  PAgroe              float64 \n",
      " 232  PAgewiB             float64 \n",
      " 233  PAbmiB_k            category\n",
      " 234  PAbmiB_k2           category\n",
      " 235  PAueberB            category\n",
      " 236  PAadiposB           category\n",
      " 237  SDaeqeink_k         category\n",
      " 238  SDses_bild          float64 \n",
      " 239  SDses_ber           float64 \n",
      " 240  SDses_eink          float64 \n",
      " 241  SDses_score         float64 \n",
      " 242  SDses_q5            category\n",
      " 243  SDses               category\n",
      " 244  SDhhincomez         category\n",
      " 245  SDbild1D            category\n",
      " 246  SDbild4C            category\n",
      " 247  SDisced11           category\n",
      " 248  SDisced11z          category\n",
      " 249  SDcasmin            category\n",
      " 250  SDbest_lz           category\n",
      " 251  SDbverh             category\n",
      " 252  SDfuehr             category\n",
      " 253  SDbest              category\n",
      " 254  SDbverh2            category\n",
      " 255  SDfuehr2            category\n",
      " 256  SDjobstat           category\n",
      " 257  SDetoed             category\n",
      " 258  SDhvtypD            category\n",
      " 259  SDft_pt             category\n",
      " 260  SDerwt0a            category\n",
      " 261  SDmainstat          category\n",
      " 262  SDalo               category\n",
      " 263  SDalo_k             category\n",
      " 264  SDalo_mmk           category\n",
      " 265  SDalokh             category\n",
      " 266  SDalogz             category\n",
      " 267  MIbirthplace        category\n",
      " 268  MIcitizen           category\n",
      "dtypes: category(253), float64(13), int16(1), int32(1), int8(1)\n",
      "memory usage: 4.3 MB\n"
     ]
    }
   ],
   "source": [
    "df.info(verbose = True)"
   ]
  },
  {
   "cell_type": "markdown",
   "id": "2e1809de",
   "metadata": {},
   "source": [
    "#### Aufgabe 4"
   ]
  },
  {
   "cell_type": "markdown",
   "id": "3d5da7ea",
   "metadata": {},
   "source": [
    "Die Frageformulierung findet sich auf Seite 1 im Fragebogen:<br>\n",
    "\"*Wie ist Ihr Gesundheitszustand im Allgemeinen?*\""
   ]
  },
  {
   "cell_type": "markdown",
   "id": "8baa297e",
   "metadata": {},
   "source": [
    "#### Aufgabe 5"
   ]
  },
  {
   "cell_type": "markdown",
   "id": "3730dcfd",
   "metadata": {},
   "source": [
    "Der Variablen-/Spaltenname zu dieser Frage lautet *SHseh1*."
   ]
  },
  {
   "cell_type": "markdown",
   "id": "88eb0bc5",
   "metadata": {},
   "source": [
    "#### Aufgabe 6"
   ]
  },
  {
   "cell_type": "code",
   "execution_count": 165,
   "id": "35502f49",
   "metadata": {
    "scrolled": true
   },
   "outputs": [
    {
     "data": {
      "text/plain": [
       "Männlich    5452\n",
       "Weiblich    6556\n",
       "Name: sex, dtype: int64"
      ]
     },
     "execution_count": 165,
     "metadata": {},
     "output_type": "execute_result"
    }
   ],
   "source": [
    "df['sex'].value_counts(sort = False) # die Option 'sort = False' verhindert, dass die Ausprägungen nach Häufigkeit sortiert werden"
   ]
  },
  {
   "cell_type": "code",
   "execution_count": 166,
   "id": "91572e58",
   "metadata": {},
   "outputs": [
    {
     "data": {
      "text/plain": [
       "Männlich    0.454031\n",
       "Weiblich    0.545969\n",
       "Name: sex, dtype: float64"
      ]
     },
     "execution_count": 166,
     "metadata": {},
     "output_type": "execute_result"
    }
   ],
   "source": [
    "df['sex'].value_counts(sort = False, normalize = True)"
   ]
  },
  {
   "cell_type": "markdown",
   "id": "0805fc9d",
   "metadata": {},
   "source": [
    "#### Aufgabe 7"
   ]
  },
  {
   "cell_type": "code",
   "execution_count": 167,
   "id": "51272cf5",
   "metadata": {},
   "outputs": [
    {
     "data": {
      "text/plain": [
       "Ja      0.07472\n",
       "Nein    0.92528\n",
       "Name: KHdiabB12, dtype: float64"
      ]
     },
     "execution_count": 167,
     "metadata": {},
     "output_type": "execute_result"
    }
   ],
   "source": [
    "df['KHdiabB12'].value_counts(sort = False, normalize = True)"
   ]
  },
  {
   "cell_type": "markdown",
   "id": "96a9a714",
   "metadata": {},
   "source": [
    "#### Aufgabe 8"
   ]
  },
  {
   "cell_type": "markdown",
   "id": "feffd7ba",
   "metadata": {},
   "source": [
    "Der Modus (häufigster Wert) ist \"*Verheiratet oder eingetragene Lebenspartnerschaft*\"."
   ]
  },
  {
   "cell_type": "code",
   "execution_count": 168,
   "id": "3f4c1bd2",
   "metadata": {},
   "outputs": [
    {
     "data": {
      "text/plain": [
       "<AxesSubplot:>"
      ]
     },
     "execution_count": 168,
     "metadata": {},
     "output_type": "execute_result"
    },
    {
     "data": {
      "image/png": "[encoded data removed]",
      "text/plain": [
       "<Figure size 432x288 with 1 Axes>"
      ]
     },
     "metadata": {
      "needs_background": "light"
     },
     "output_type": "display_data"
    }
   ],
   "source": [
    "df['PAfam1C'].value_counts(sort = False).plot.barh()"
   ]
  },
  {
   "cell_type": "markdown",
   "id": "9657ace8",
   "metadata": {},
   "source": [
    "#### Aufgabe 9"
   ]
  },
  {
   "cell_type": "markdown",
   "id": "d0a6255b",
   "metadata": {},
   "source": [
    "Modus < Median < arithmetisches Mittel &rarr; linkssteile/rechtsschiefe Verteilung"
   ]
  },
  {
   "cell_type": "code",
   "execution_count": 169,
   "id": "bfd77b78",
   "metadata": {},
   "outputs": [
    {
     "data": {
      "text/plain": [
       "0    9.6\n",
       "dtype: float64"
      ]
     },
     "execution_count": 169,
     "metadata": {},
     "output_type": "execute_result"
    }
   ],
   "source": [
    "df['SDses_score'].mode()"
   ]
  },
  {
   "cell_type": "code",
   "execution_count": 170,
   "id": "94ab2687",
   "metadata": {},
   "outputs": [
    {
     "data": {
      "text/plain": [
       "12.100000381469727"
      ]
     },
     "execution_count": 170,
     "metadata": {},
     "output_type": "execute_result"
    }
   ],
   "source": [
    "df['SDses_score'].median()"
   ]
  },
  {
   "cell_type": "code",
   "execution_count": 171,
   "id": "8c8abdca",
   "metadata": {},
   "outputs": [
    {
     "data": {
      "text/plain": [
       "12.497537609790522"
      ]
     },
     "execution_count": 171,
     "metadata": {},
     "output_type": "execute_result"
    }
   ],
   "source": [
    "df['SDses_score'].mean()"
   ]
  },
  {
   "cell_type": "markdown",
   "id": "4919d5dc",
   "metadata": {},
   "source": [
    "#### Aufgabe 10"
   ]
  },
  {
   "cell_type": "markdown",
   "id": "eae54054",
   "metadata": {},
   "source": [
    "#### Kleiner Aufräum-Exkurs"
   ]
  },
  {
   "cell_type": "markdown",
   "id": "dc4d458b",
   "metadata": {},
   "source": [
    "Die Variable *LQzufrB10* erfasst die Lebenszufriedenheit der Befragten mit 11 verschiedenen Merkmalsausprägungen von 0 (\"*Überhaupt nicht zufrieden*\") bis 10 (\"*Vollkommen zufrieden*\"). Die meisten würden diese Variable aus quasi-metrisch ansehen. *pandas* hat sie aber als kategoriale Variable eingelesen: "
   ]
  },
  {
   "cell_type": "markdown",
   "id": "7a1bd539",
   "metadata": {},
   "source": [
    "Die folgenden beiden Codezeilen wandeln diese Variable in eine numerische, ganzzahlige Variable um und stellen die fehlenden Werte wieder her:"
   ]
  },
  {
   "cell_type": "code",
   "execution_count": 172,
   "id": "671f81fa",
   "metadata": {},
   "outputs": [],
   "source": [
    "df['LQzufrB10'] = df['LQzufrB10'].cat.codes\n",
    "df['LQzufrB10'] = df['LQzufrB10'].replace(-1, np.NaN).astype('Int64')"
   ]
  },
  {
   "cell_type": "code",
   "execution_count": 173,
   "id": "c529f3ab",
   "metadata": {},
   "outputs": [
    {
     "data": {
      "text/plain": [
       "GZmehm3C\n",
       "Ja      7.152405\n",
       "Nein    7.838103\n",
       "Name: LQzufrB10, dtype: Float64"
      ]
     },
     "execution_count": 173,
     "metadata": {},
     "output_type": "execute_result"
    }
   ],
   "source": [
    "df.groupby('GZmehm3C')['LQzufrB10'].mean()"
   ]
  },
  {
   "cell_type": "code",
   "execution_count": 174,
   "id": "3f5c77cd",
   "metadata": {},
   "outputs": [
    {
     "data": {
      "text/plain": [
       "GZmehm3C\n",
       "Ja      2.015528\n",
       "Nein    1.589281\n",
       "Name: LQzufrB10, dtype: float64"
      ]
     },
     "execution_count": 174,
     "metadata": {},
     "output_type": "execute_result"
    }
   ],
   "source": [
    "df.groupby('GZmehm3C')['LQzufrB10'].std()"
   ]
  },
  {
   "cell_type": "code",
   "execution_count": 175,
   "id": "f987a506",
   "metadata": {},
   "outputs": [
    {
     "data": {
      "text/plain": [
       "<AxesSubplot:>"
      ]
     },
     "execution_count": 175,
     "metadata": {},
     "output_type": "execute_result"
    },
    {
     "data": {
      "image/png": "[encoded data removed]",
      "text/plain": [
       "<Figure size 720x720 with 1 Axes>"
      ]
     },
     "metadata": {
      "needs_background": "light"
     },
     "output_type": "display_data"
    }
   ],
   "source": [
    "df.groupby('GZmehm3C').boxplot(column = ['LQzufrB10'], grid = False, subplots=False, figsize = (10,10))"
   ]
  },
  {
   "cell_type": "code",
   "execution_count": null,
   "id": "3810e987",
   "metadata": {},
   "outputs": [],
   "source": []
  }
 ],
 "metadata": {
  "kernelspec": {
   "display_name": "Python 3 (ipykernel)",
   "language": "python",
   "name": "python3"
  },
  "language_info": {
   "codemirror_mode": {
    "name": "ipython",
    "version": 3
   },
   "file_extension": ".py",
   "mimetype": "text/x-python",
   "name": "python",
   "nbconvert_exporter": "python",
   "pygments_lexer": "ipython3",
   "version": "3.9.7"
  }
 },
 "nbformat": 4,
 "nbformat_minor": 5
}
