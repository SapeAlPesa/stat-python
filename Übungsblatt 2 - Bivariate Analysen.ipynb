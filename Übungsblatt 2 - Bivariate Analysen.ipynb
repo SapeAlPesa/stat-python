{
 "cells": [
  {
   "cell_type": "code",
   "execution_count": 123,
   "id": "c6e5b45d",
   "metadata": {},
   "outputs": [],
   "source": [
    "import pandas as pd\n",
    "import numpy as np"
   ]
  },
  {
   "cell_type": "markdown",
   "id": "7786d11c",
   "metadata": {},
   "source": [
    "#### Aufgabe 2"
   ]
  },
  {
   "cell_type": "code",
   "execution_count": 124,
   "id": "5b5aa17f",
   "metadata": {},
   "outputs": [],
   "source": [
    "df = pd.read_stata(r\"K:\\Stat_Workshop\\Python\\Daten\\GEDA2014-2015\\geda14.dta\")"
   ]
  },
  {
   "cell_type": "markdown",
   "id": "6cac8167",
   "metadata": {},
   "source": [
    "#### Aufgabe 3"
   ]
  },
  {
   "cell_type": "markdown",
   "id": "15ee459c",
   "metadata": {},
   "source": [
    "Kreuztabelle in absoluten Häufigkeiten"
   ]
  },
  {
   "cell_type": "code",
   "execution_count": 125,
   "id": "fdda8ac3",
   "metadata": {},
   "outputs": [
    {
     "data": {
      "text/html": [
       "<div>\n",
       "<style scoped>\n",
       "    .dataframe tbody tr th:only-of-type {\n",
       "        vertical-align: middle;\n",
       "    }\n",
       "\n",
       "    .dataframe tbody tr th {\n",
       "        vertical-align: top;\n",
       "    }\n",
       "\n",
       "    .dataframe thead th {\n",
       "        text-align: right;\n",
       "    }\n",
       "</style>\n",
       "<table border=\"1\" class=\"dataframe\">\n",
       "  <thead>\n",
       "    <tr style=\"text-align: right;\">\n",
       "      <th>sex</th>\n",
       "      <th>Männlich</th>\n",
       "      <th>Weiblich</th>\n",
       "      <th>All</th>\n",
       "    </tr>\n",
       "    <tr>\n",
       "      <th>AKbingeC_k3</th>\n",
       "      <th></th>\n",
       "      <th></th>\n",
       "      <th></th>\n",
       "    </tr>\n",
       "  </thead>\n",
       "  <tbody>\n",
       "    <tr>\n",
       "      <th>Mind. monatlich</th>\n",
       "      <td>2254</td>\n",
       "      <td>1590</td>\n",
       "      <td>3844</td>\n",
       "    </tr>\n",
       "    <tr>\n",
       "      <th>Nicht monatlich oder nie</th>\n",
       "      <td>3126</td>\n",
       "      <td>4887</td>\n",
       "      <td>8013</td>\n",
       "    </tr>\n",
       "    <tr>\n",
       "      <th>All</th>\n",
       "      <td>5380</td>\n",
       "      <td>6477</td>\n",
       "      <td>11857</td>\n",
       "    </tr>\n",
       "  </tbody>\n",
       "</table>\n",
       "</div>"
      ],
      "text/plain": [
       "sex                       Männlich  Weiblich    All\n",
       "AKbingeC_k3                                        \n",
       "Mind. monatlich               2254      1590   3844\n",
       "Nicht monatlich oder nie      3126      4887   8013\n",
       "All                           5380      6477  11857"
      ]
     },
     "execution_count": 125,
     "metadata": {},
     "output_type": "execute_result"
    }
   ],
   "source": [
    "pd.crosstab(df['AKbingeC_k3'], df['sex'], margins = True)"
   ]
  },
  {
   "cell_type": "markdown",
   "id": "b0bfebc0",
   "metadata": {},
   "source": [
    "Kreuztabelle mit Spaltenprozentuierung"
   ]
  },
  {
   "cell_type": "code",
   "execution_count": 126,
   "id": "8e58176e",
   "metadata": {},
   "outputs": [
    {
     "data": {
      "text/html": [
       "<div>\n",
       "<style scoped>\n",
       "    .dataframe tbody tr th:only-of-type {\n",
       "        vertical-align: middle;\n",
       "    }\n",
       "\n",
       "    .dataframe tbody tr th {\n",
       "        vertical-align: top;\n",
       "    }\n",
       "\n",
       "    .dataframe thead th {\n",
       "        text-align: right;\n",
       "    }\n",
       "</style>\n",
       "<table border=\"1\" class=\"dataframe\">\n",
       "  <thead>\n",
       "    <tr style=\"text-align: right;\">\n",
       "      <th>sex</th>\n",
       "      <th>Männlich</th>\n",
       "      <th>Weiblich</th>\n",
       "      <th>All</th>\n",
       "    </tr>\n",
       "    <tr>\n",
       "      <th>AKbingeC_k3</th>\n",
       "      <th></th>\n",
       "      <th></th>\n",
       "      <th></th>\n",
       "    </tr>\n",
       "  </thead>\n",
       "  <tbody>\n",
       "    <tr>\n",
       "      <th>Mind. monatlich</th>\n",
       "      <td>41.895911</td>\n",
       "      <td>24.548402</td>\n",
       "      <td>32.419668</td>\n",
       "    </tr>\n",
       "    <tr>\n",
       "      <th>Nicht monatlich oder nie</th>\n",
       "      <td>58.104089</td>\n",
       "      <td>75.451598</td>\n",
       "      <td>67.580332</td>\n",
       "    </tr>\n",
       "  </tbody>\n",
       "</table>\n",
       "</div>"
      ],
      "text/plain": [
       "sex                        Männlich   Weiblich        All\n",
       "AKbingeC_k3                                              \n",
       "Mind. monatlich           41.895911  24.548402  32.419668\n",
       "Nicht monatlich oder nie  58.104089  75.451598  67.580332"
      ]
     },
     "execution_count": 126,
     "metadata": {},
     "output_type": "execute_result"
    }
   ],
   "source": [
    "pd.crosstab(df['AKbingeC_k3'], df['sex'], margins = True, normalize = 'columns')*100"
   ]
  },
  {
   "cell_type": "markdown",
   "id": "044de89e",
   "metadata": {},
   "source": [
    "#### Aufgabe 4"
   ]
  },
  {
   "cell_type": "markdown",
   "id": "602d7eda",
   "metadata": {},
   "source": [
    "Kreuztabelle mit Spaltenprozentuierung"
   ]
  },
  {
   "cell_type": "code",
   "execution_count": 127,
   "id": "76375173",
   "metadata": {},
   "outputs": [
    {
     "data": {
      "text/html": [
       "<div>\n",
       "<style scoped>\n",
       "    .dataframe tbody tr th:only-of-type {\n",
       "        vertical-align: middle;\n",
       "    }\n",
       "\n",
       "    .dataframe tbody tr th {\n",
       "        vertical-align: top;\n",
       "    }\n",
       "\n",
       "    .dataframe thead th {\n",
       "        text-align: right;\n",
       "    }\n",
       "</style>\n",
       "<table border=\"1\" class=\"dataframe\">\n",
       "  <thead>\n",
       "    <tr style=\"text-align: right;\">\n",
       "      <th>SDses</th>\n",
       "      <th>Niedrig</th>\n",
       "      <th>Mittel</th>\n",
       "      <th>Hoch</th>\n",
       "      <th>All</th>\n",
       "    </tr>\n",
       "    <tr>\n",
       "      <th>GZmehm1</th>\n",
       "      <th></th>\n",
       "      <th></th>\n",
       "      <th></th>\n",
       "      <th></th>\n",
       "    </tr>\n",
       "  </thead>\n",
       "  <tbody>\n",
       "    <tr>\n",
       "      <th>Sehr gut</th>\n",
       "      <td>8.547889</td>\n",
       "      <td>14.551130</td>\n",
       "      <td>22.763480</td>\n",
       "      <td>15.820345</td>\n",
       "    </tr>\n",
       "    <tr>\n",
       "      <th>Gut</th>\n",
       "      <td>43.099897</td>\n",
       "      <td>55.306183</td>\n",
       "      <td>59.650735</td>\n",
       "      <td>54.508128</td>\n",
       "    </tr>\n",
       "    <tr>\n",
       "      <th>Mittelmäßig</th>\n",
       "      <td>38.053553</td>\n",
       "      <td>25.222949</td>\n",
       "      <td>15.563725</td>\n",
       "      <td>24.669013</td>\n",
       "    </tr>\n",
       "    <tr>\n",
       "      <th>Schlecht</th>\n",
       "      <td>8.959835</td>\n",
       "      <td>4.250892</td>\n",
       "      <td>1.868873</td>\n",
       "      <td>4.365678</td>\n",
       "    </tr>\n",
       "    <tr>\n",
       "      <th>Sehr schlecht</th>\n",
       "      <td>1.338826</td>\n",
       "      <td>0.668847</td>\n",
       "      <td>0.153186</td>\n",
       "      <td>0.636836</td>\n",
       "    </tr>\n",
       "  </tbody>\n",
       "</table>\n",
       "</div>"
      ],
      "text/plain": [
       "SDses            Niedrig     Mittel       Hoch        All\n",
       "GZmehm1                                                  \n",
       "Sehr gut        8.547889  14.551130  22.763480  15.820345\n",
       "Gut            43.099897  55.306183  59.650735  54.508128\n",
       "Mittelmäßig    38.053553  25.222949  15.563725  24.669013\n",
       "Schlecht        8.959835   4.250892   1.868873   4.365678\n",
       "Sehr schlecht   1.338826   0.668847   0.153186   0.636836"
      ]
     },
     "execution_count": 127,
     "metadata": {},
     "output_type": "execute_result"
    }
   ],
   "source": [
    "pd.crosstab(df['GZmehm1'], df['SDses'], margins = True, normalize = 'columns')*100"
   ]
  },
  {
   "cell_type": "markdown",
   "id": "d3db692c",
   "metadata": {},
   "source": [
    "Berechnung von Chi-Quadrat"
   ]
  },
  {
   "cell_type": "code",
   "execution_count": 128,
   "id": "91ecbeda",
   "metadata": {},
   "outputs": [],
   "source": [
    "from scipy.stats import chi2_contingency, contingency"
   ]
  },
  {
   "cell_type": "code",
   "execution_count": 129,
   "id": "64f93f86",
   "metadata": {},
   "outputs": [],
   "source": [
    "crosstab = pd.crosstab(df['GZmehm1'], df['SDses']) # die Kreuztabelle muss an dieser Stelle in absoluten Häufigkeiten sein!"
   ]
  },
  {
   "cell_type": "code",
   "execution_count": 130,
   "id": "9b9e1272",
   "metadata": {},
   "outputs": [],
   "source": [
    "c, p, dof, expected = chi2_contingency(crosstab)"
   ]
  },
  {
   "cell_type": "code",
   "execution_count": 131,
   "id": "7c4df24d",
   "metadata": {},
   "outputs": [
    {
     "name": "stdout",
     "output_type": "stream",
     "text": [
      "Chi-Quadrat: 653.607 \n",
      " p-Wert: 0.000 \n",
      " Freiheitsgrade: 8\n"
     ]
    }
   ],
   "source": [
    "print('Chi-Quadrat:','{:.3f}'.format(c),'\\n','p-Wert:','{:.3f}'.format(p),'\\n','Freiheitsgrade:',dof)"
   ]
  },
  {
   "cell_type": "markdown",
   "id": "a5849f6e",
   "metadata": {},
   "source": [
    "Berechnung von Cramérs *V*"
   ]
  },
  {
   "cell_type": "code",
   "execution_count": 132,
   "id": "69e5b62f",
   "metadata": {},
   "outputs": [],
   "source": [
    "V = contingency.association(crosstab, method = 'cramer')"
   ]
  },
  {
   "cell_type": "code",
   "execution_count": 133,
   "id": "433a435e",
   "metadata": {},
   "outputs": [
    {
     "name": "stdout",
     "output_type": "stream",
     "text": [
      "Cramérs V: 0.165\n"
     ]
    }
   ],
   "source": [
    "print('Cramérs V:', '{:.3f}'.format(V))"
   ]
  },
  {
   "cell_type": "markdown",
   "id": "aa1b7938",
   "metadata": {},
   "source": [
    "#### Aufgabe 5"
   ]
  },
  {
   "cell_type": "markdown",
   "id": "f3b21460",
   "metadata": {},
   "source": [
    "Variablenformat anpassen. Siehe Übungsblatt, Aufgabe 10 für eine kurze Erläuterung."
   ]
  },
  {
   "cell_type": "code",
   "execution_count": 134,
   "id": "d428ec2c",
   "metadata": {},
   "outputs": [],
   "source": [
    "df['LQzufrB10'] = df['LQzufrB10'].cat.codes\n",
    "df['LQzufrB10'] = df['LQzufrB10'].replace(-1, np.NaN)"
   ]
  },
  {
   "cell_type": "markdown",
   "id": "c61604ea",
   "metadata": {},
   "source": [
    "Streudiagramm"
   ]
  },
  {
   "cell_type": "code",
   "execution_count": 135,
   "id": "beff13cf",
   "metadata": {},
   "outputs": [
    {
     "data": {
      "text/plain": [
       "<AxesSubplot:xlabel='SDses_score', ylabel='LQzufrB10'>"
      ]
     },
     "execution_count": 135,
     "metadata": {},
     "output_type": "execute_result"
    },
    {
     "data": {
      "image/png": "[encoded data removed]",
      "text/plain": [
       "<Figure size 720x720 with 1 Axes>"
      ]
     },
     "metadata": {
      "needs_background": "light"
     },
     "output_type": "display_data"
    }
   ],
   "source": [
    "df.plot.scatter(x = 'SDses_score', y = 'LQzufrB10', marker = 'o',  alpha=0.5, figsize = (10,10))"
   ]
  },
  {
   "cell_type": "markdown",
   "id": "cd715ee6",
   "metadata": {},
   "source": [
    "Kovarianz"
   ]
  },
  {
   "cell_type": "code",
   "execution_count": 136,
   "id": "1d629cfd",
   "metadata": {},
   "outputs": [
    {
     "data": {
      "text/plain": [
       "1.2886843838468474"
      ]
     },
     "execution_count": 136,
     "metadata": {},
     "output_type": "execute_result"
    }
   ],
   "source": [
    "df['SDses_score'].cov(df['LQzufrB10'])"
   ]
  },
  {
   "cell_type": "markdown",
   "id": "73f920ea",
   "metadata": {},
   "source": [
    "Maximal mögliche Kovarianz"
   ]
  },
  {
   "cell_type": "code",
   "execution_count": 137,
   "id": "76f944ff",
   "metadata": {},
   "outputs": [
    {
     "data": {
      "text/plain": [
       "7.339278779571173"
      ]
     },
     "execution_count": 137,
     "metadata": {},
     "output_type": "execute_result"
    }
   ],
   "source": [
    "df['SDses_score'].std()*df['LQzufrB10'].std()"
   ]
  },
  {
   "cell_type": "markdown",
   "id": "77b21b77",
   "metadata": {},
   "source": [
    "Kovarianz/Maximum = Korrelation"
   ]
  },
  {
   "cell_type": "code",
   "execution_count": 138,
   "id": "85278119",
   "metadata": {},
   "outputs": [
    {
     "data": {
      "text/plain": [
       "0.17558733256377868"
      ]
     },
     "execution_count": 138,
     "metadata": {},
     "output_type": "execute_result"
    }
   ],
   "source": [
    "df['SDses_score'].cov(df['LQzufrB10'])/(df['SDses_score'].std()*df['LQzufrB10'].std())"
   ]
  },
  {
   "cell_type": "markdown",
   "id": "d3d82e6f",
   "metadata": {},
   "source": [
    "Korrelation"
   ]
  },
  {
   "cell_type": "code",
   "execution_count": 139,
   "id": "c945470a",
   "metadata": {},
   "outputs": [
    {
     "data": {
      "text/plain": [
       "0.17561918720888353"
      ]
     },
     "execution_count": 139,
     "metadata": {},
     "output_type": "execute_result"
    }
   ],
   "source": [
    "df['SDses_score'].corr(df['LQzufrB10'])"
   ]
  }
 ],
 "metadata": {
  "kernelspec": {
   "display_name": "Python 3 (ipykernel)",
   "language": "python",
   "name": "python3"
  },
  "language_info": {
   "codemirror_mode": {
    "name": "ipython",
    "version": 3
   },
   "file_extension": ".py",
   "mimetype": "text/x-python",
   "name": "python",
   "nbconvert_exporter": "python",
   "pygments_lexer": "ipython3",
   "version": "3.9.7"
  }
 },
 "nbformat": 4,
 "nbformat_minor": 5
}
